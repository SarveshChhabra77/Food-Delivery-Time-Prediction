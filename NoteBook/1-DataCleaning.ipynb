{
 "cells": [
  {
   "cell_type": "markdown",
   "id": "8503406a",
   "metadata": {},
   "source": [
    "\n",
    "# About Dataset\n",
    "\n",
    "This dataset is designed for predicting food delivery times based on various influencing factors such as distance, weather, traffic conditions, and time of day. It offers a practical and engaging challenge for machine learning practitioners, especially those interested in logistics and operations research.\n",
    "\n",
    "## Key Features:\n",
    "\n",
    "- Order_ID: Unique identifier for each order.\n",
    "\n",
    "- Distance_km: The delivery distance in kilometers.\n",
    "\n",
    "- Weather: Weather conditions during the delivery, including Clear, Rainy, Snowy, Foggy, and Windy.\n",
    "\n",
    "- Traffic_Level: Traffic conditions categorized as Low, Medium, or High.\n",
    "\n",
    "- Time_of_Day: The time when the delivery took place, categorized as Morning, Afternoon, Evening, or Night.\n",
    "\n",
    "- Vehicle_Type: Type of vehicle used for delivery, including Bike, Scooter, and Car.\n",
    "\n",
    "- Preparation_Time_min: The time required to prepare the order, measured in minutes.\n",
    "\n",
    "- Courier_Experience_yrs: Experience of the courier in years.\n",
    "\n",
    "- Delivery_Time_min: The total delivery time in minutes (target variable)."
   ]
  },
  {
   "cell_type": "code",
   "execution_count": 1,
   "id": "2d72e156",
   "metadata": {},
   "outputs": [],
   "source": [
    "import pandas as pd\n",
    "import numpy as np\n"
   ]
  },
  {
   "cell_type": "code",
   "execution_count": 4,
   "id": "efeae450",
   "metadata": {},
   "outputs": [],
   "source": [
    "df=pd.read_csv('D:\\Food Delivery Time Prediction\\Data\\RawData\\Food_Delivery_Times.csv')"
   ]
  },
  {
   "cell_type": "code",
   "execution_count": 5,
   "id": "64c019a4",
   "metadata": {},
   "outputs": [
    {
     "data": {
      "text/html": [
       "<div>\n",
       "<style scoped>\n",
       "    .dataframe tbody tr th:only-of-type {\n",
       "        vertical-align: middle;\n",
       "    }\n",
       "\n",
       "    .dataframe tbody tr th {\n",
       "        vertical-align: top;\n",
       "    }\n",
       "\n",
       "    .dataframe thead th {\n",
       "        text-align: right;\n",
       "    }\n",
       "</style>\n",
       "<table border=\"1\" class=\"dataframe\">\n",
       "  <thead>\n",
       "    <tr style=\"text-align: right;\">\n",
       "      <th></th>\n",
       "      <th>Order_ID</th>\n",
       "      <th>Distance_km</th>\n",
       "      <th>Weather</th>\n",
       "      <th>Traffic_Level</th>\n",
       "      <th>Time_of_Day</th>\n",
       "      <th>Vehicle_Type</th>\n",
       "      <th>Preparation_Time_min</th>\n",
       "      <th>Courier_Experience_yrs</th>\n",
       "      <th>Delivery_Time_min</th>\n",
       "    </tr>\n",
       "  </thead>\n",
       "  <tbody>\n",
       "    <tr>\n",
       "      <th>0</th>\n",
       "      <td>522</td>\n",
       "      <td>7.93</td>\n",
       "      <td>Windy</td>\n",
       "      <td>Low</td>\n",
       "      <td>Afternoon</td>\n",
       "      <td>Scooter</td>\n",
       "      <td>12</td>\n",
       "      <td>1.0</td>\n",
       "      <td>43</td>\n",
       "    </tr>\n",
       "    <tr>\n",
       "      <th>1</th>\n",
       "      <td>738</td>\n",
       "      <td>16.42</td>\n",
       "      <td>Clear</td>\n",
       "      <td>Medium</td>\n",
       "      <td>Evening</td>\n",
       "      <td>Bike</td>\n",
       "      <td>20</td>\n",
       "      <td>2.0</td>\n",
       "      <td>84</td>\n",
       "    </tr>\n",
       "    <tr>\n",
       "      <th>2</th>\n",
       "      <td>741</td>\n",
       "      <td>9.52</td>\n",
       "      <td>Foggy</td>\n",
       "      <td>Low</td>\n",
       "      <td>Night</td>\n",
       "      <td>Scooter</td>\n",
       "      <td>28</td>\n",
       "      <td>1.0</td>\n",
       "      <td>59</td>\n",
       "    </tr>\n",
       "    <tr>\n",
       "      <th>3</th>\n",
       "      <td>661</td>\n",
       "      <td>7.44</td>\n",
       "      <td>Rainy</td>\n",
       "      <td>Medium</td>\n",
       "      <td>Afternoon</td>\n",
       "      <td>Scooter</td>\n",
       "      <td>5</td>\n",
       "      <td>1.0</td>\n",
       "      <td>37</td>\n",
       "    </tr>\n",
       "    <tr>\n",
       "      <th>4</th>\n",
       "      <td>412</td>\n",
       "      <td>19.03</td>\n",
       "      <td>Clear</td>\n",
       "      <td>Low</td>\n",
       "      <td>Morning</td>\n",
       "      <td>Bike</td>\n",
       "      <td>16</td>\n",
       "      <td>5.0</td>\n",
       "      <td>68</td>\n",
       "    </tr>\n",
       "  </tbody>\n",
       "</table>\n",
       "</div>"
      ],
      "text/plain": [
       "   Order_ID  Distance_km Weather Traffic_Level Time_of_Day Vehicle_Type  \\\n",
       "0       522         7.93   Windy           Low   Afternoon      Scooter   \n",
       "1       738        16.42   Clear        Medium     Evening         Bike   \n",
       "2       741         9.52   Foggy           Low       Night      Scooter   \n",
       "3       661         7.44   Rainy        Medium   Afternoon      Scooter   \n",
       "4       412        19.03   Clear           Low     Morning         Bike   \n",
       "\n",
       "   Preparation_Time_min  Courier_Experience_yrs  Delivery_Time_min  \n",
       "0                    12                     1.0                 43  \n",
       "1                    20                     2.0                 84  \n",
       "2                    28                     1.0                 59  \n",
       "3                     5                     1.0                 37  \n",
       "4                    16                     5.0                 68  "
      ]
     },
     "execution_count": 5,
     "metadata": {},
     "output_type": "execute_result"
    }
   ],
   "source": [
    "df.head()"
   ]
  },
  {
   "cell_type": "code",
   "execution_count": 20,
   "id": "2f982d3f",
   "metadata": {},
   "outputs": [
    {
     "data": {
      "text/plain": [
       "(1000, 9)"
      ]
     },
     "execution_count": 20,
     "metadata": {},
     "output_type": "execute_result"
    }
   ],
   "source": [
    "df.shape"
   ]
  },
  {
   "cell_type": "code",
   "execution_count": 33,
   "id": "33f86d84",
   "metadata": {},
   "outputs": [
    {
     "data": {
      "text/html": [
       "<div>\n",
       "<style scoped>\n",
       "    .dataframe tbody tr th:only-of-type {\n",
       "        vertical-align: middle;\n",
       "    }\n",
       "\n",
       "    .dataframe tbody tr th {\n",
       "        vertical-align: top;\n",
       "    }\n",
       "\n",
       "    .dataframe thead th {\n",
       "        text-align: right;\n",
       "    }\n",
       "</style>\n",
       "<table border=\"1\" class=\"dataframe\">\n",
       "  <thead>\n",
       "    <tr style=\"text-align: right;\">\n",
       "      <th></th>\n",
       "      <th>Order_ID</th>\n",
       "      <th>Distance_km</th>\n",
       "      <th>Weather</th>\n",
       "      <th>Traffic_Level</th>\n",
       "      <th>Time_of_Day</th>\n",
       "      <th>Vehicle_Type</th>\n",
       "      <th>Preparation_Time_min</th>\n",
       "      <th>Courier_Experience_yrs</th>\n",
       "      <th>Delivery_Time_min</th>\n",
       "    </tr>\n",
       "  </thead>\n",
       "  <tbody>\n",
       "    <tr>\n",
       "      <th>6</th>\n",
       "      <td>627</td>\n",
       "      <td>9.52</td>\n",
       "      <td>Clear</td>\n",
       "      <td>Low</td>\n",
       "      <td>NaN</td>\n",
       "      <td>Bike</td>\n",
       "      <td>12</td>\n",
       "      <td>1.0</td>\n",
       "      <td>49</td>\n",
       "    </tr>\n",
       "    <tr>\n",
       "      <th>14</th>\n",
       "      <td>939</td>\n",
       "      <td>2.80</td>\n",
       "      <td>Clear</td>\n",
       "      <td>High</td>\n",
       "      <td>Morning</td>\n",
       "      <td>Scooter</td>\n",
       "      <td>10</td>\n",
       "      <td>NaN</td>\n",
       "      <td>33</td>\n",
       "    </tr>\n",
       "    <tr>\n",
       "      <th>24</th>\n",
       "      <td>211</td>\n",
       "      <td>11.20</td>\n",
       "      <td>Clear</td>\n",
       "      <td>Medium</td>\n",
       "      <td>Morning</td>\n",
       "      <td>Bike</td>\n",
       "      <td>23</td>\n",
       "      <td>NaN</td>\n",
       "      <td>73</td>\n",
       "    </tr>\n",
       "    <tr>\n",
       "      <th>42</th>\n",
       "      <td>313</td>\n",
       "      <td>0.99</td>\n",
       "      <td>NaN</td>\n",
       "      <td>Medium</td>\n",
       "      <td>Evening</td>\n",
       "      <td>Bike</td>\n",
       "      <td>15</td>\n",
       "      <td>NaN</td>\n",
       "      <td>32</td>\n",
       "    </tr>\n",
       "    <tr>\n",
       "      <th>71</th>\n",
       "      <td>494</td>\n",
       "      <td>4.17</td>\n",
       "      <td>NaN</td>\n",
       "      <td>Low</td>\n",
       "      <td>Evening</td>\n",
       "      <td>Scooter</td>\n",
       "      <td>5</td>\n",
       "      <td>1.0</td>\n",
       "      <td>22</td>\n",
       "    </tr>\n",
       "    <tr>\n",
       "      <th>...</th>\n",
       "      <td>...</td>\n",
       "      <td>...</td>\n",
       "      <td>...</td>\n",
       "      <td>...</td>\n",
       "      <td>...</td>\n",
       "      <td>...</td>\n",
       "      <td>...</td>\n",
       "      <td>...</td>\n",
       "      <td>...</td>\n",
       "    </tr>\n",
       "    <tr>\n",
       "      <th>974</th>\n",
       "      <td>414</td>\n",
       "      <td>11.68</td>\n",
       "      <td>Clear</td>\n",
       "      <td>NaN</td>\n",
       "      <td>Afternoon</td>\n",
       "      <td>Scooter</td>\n",
       "      <td>25</td>\n",
       "      <td>7.0</td>\n",
       "      <td>70</td>\n",
       "    </tr>\n",
       "    <tr>\n",
       "      <th>976</th>\n",
       "      <td>344</td>\n",
       "      <td>8.96</td>\n",
       "      <td>Snowy</td>\n",
       "      <td>NaN</td>\n",
       "      <td>Morning</td>\n",
       "      <td>Car</td>\n",
       "      <td>6</td>\n",
       "      <td>5.0</td>\n",
       "      <td>51</td>\n",
       "    </tr>\n",
       "    <tr>\n",
       "      <th>987</th>\n",
       "      <td>331</td>\n",
       "      <td>7.44</td>\n",
       "      <td>Rainy</td>\n",
       "      <td>Low</td>\n",
       "      <td>Evening</td>\n",
       "      <td>Bike</td>\n",
       "      <td>27</td>\n",
       "      <td>NaN</td>\n",
       "      <td>53</td>\n",
       "    </tr>\n",
       "    <tr>\n",
       "      <th>988</th>\n",
       "      <td>215</td>\n",
       "      <td>14.39</td>\n",
       "      <td>Rainy</td>\n",
       "      <td>Medium</td>\n",
       "      <td>Morning</td>\n",
       "      <td>Scooter</td>\n",
       "      <td>6</td>\n",
       "      <td>NaN</td>\n",
       "      <td>50</td>\n",
       "    </tr>\n",
       "    <tr>\n",
       "      <th>989</th>\n",
       "      <td>467</td>\n",
       "      <td>6.07</td>\n",
       "      <td>NaN</td>\n",
       "      <td>Low</td>\n",
       "      <td>Afternoon</td>\n",
       "      <td>Bike</td>\n",
       "      <td>18</td>\n",
       "      <td>4.0</td>\n",
       "      <td>35</td>\n",
       "    </tr>\n",
       "  </tbody>\n",
       "</table>\n",
       "<p>117 rows × 9 columns</p>\n",
       "</div>"
      ],
      "text/plain": [
       "     Order_ID  Distance_km Weather Traffic_Level Time_of_Day Vehicle_Type  \\\n",
       "6         627         9.52   Clear           Low         NaN         Bike   \n",
       "14        939         2.80   Clear          High     Morning      Scooter   \n",
       "24        211        11.20   Clear        Medium     Morning         Bike   \n",
       "42        313         0.99     NaN        Medium     Evening         Bike   \n",
       "71        494         4.17     NaN           Low     Evening      Scooter   \n",
       "..        ...          ...     ...           ...         ...          ...   \n",
       "974       414        11.68   Clear           NaN   Afternoon      Scooter   \n",
       "976       344         8.96   Snowy           NaN     Morning          Car   \n",
       "987       331         7.44   Rainy           Low     Evening         Bike   \n",
       "988       215        14.39   Rainy        Medium     Morning      Scooter   \n",
       "989       467         6.07     NaN           Low   Afternoon         Bike   \n",
       "\n",
       "     Preparation_Time_min  Courier_Experience_yrs  Delivery_Time_min  \n",
       "6                      12                     1.0                 49  \n",
       "14                     10                     NaN                 33  \n",
       "24                     23                     NaN                 73  \n",
       "42                     15                     NaN                 32  \n",
       "71                      5                     1.0                 22  \n",
       "..                    ...                     ...                ...  \n",
       "974                    25                     7.0                 70  \n",
       "976                     6                     5.0                 51  \n",
       "987                    27                     NaN                 53  \n",
       "988                     6                     NaN                 50  \n",
       "989                    18                     4.0                 35  \n",
       "\n",
       "[117 rows x 9 columns]"
      ]
     },
     "execution_count": 33,
     "metadata": {},
     "output_type": "execute_result"
    }
   ],
   "source": [
    "df[df.isna().any(axis=1)]"
   ]
  },
  {
   "cell_type": "code",
   "execution_count": 6,
   "id": "652b6189",
   "metadata": {},
   "outputs": [
    {
     "name": "stdout",
     "output_type": "stream",
     "text": [
      "<class 'pandas.core.frame.DataFrame'>\n",
      "RangeIndex: 1000 entries, 0 to 999\n",
      "Data columns (total 9 columns):\n",
      " #   Column                  Non-Null Count  Dtype  \n",
      "---  ------                  --------------  -----  \n",
      " 0   Order_ID                1000 non-null   int64  \n",
      " 1   Distance_km             1000 non-null   float64\n",
      " 2   Weather                 970 non-null    object \n",
      " 3   Traffic_Level           970 non-null    object \n",
      " 4   Time_of_Day             970 non-null    object \n",
      " 5   Vehicle_Type            1000 non-null   object \n",
      " 6   Preparation_Time_min    1000 non-null   int64  \n",
      " 7   Courier_Experience_yrs  970 non-null    float64\n",
      " 8   Delivery_Time_min       1000 non-null   int64  \n",
      "dtypes: float64(2), int64(3), object(4)\n",
      "memory usage: 70.4+ KB\n"
     ]
    }
   ],
   "source": [
    "df.info()"
   ]
  },
  {
   "cell_type": "code",
   "execution_count": 10,
   "id": "701373e8",
   "metadata": {},
   "outputs": [
    {
     "data": {
      "text/plain": [
       "array(['Windy', 'Clear', 'Foggy', 'Rainy', 'Snowy', nan], dtype=object)"
      ]
     },
     "execution_count": 10,
     "metadata": {},
     "output_type": "execute_result"
    }
   ],
   "source": [
    "df.Weather.unique()"
   ]
  },
  {
   "cell_type": "code",
   "execution_count": 11,
   "id": "b582135e",
   "metadata": {},
   "outputs": [
    {
     "data": {
      "text/plain": [
       "array(['Low', 'Medium', 'High', nan], dtype=object)"
      ]
     },
     "execution_count": 11,
     "metadata": {},
     "output_type": "execute_result"
    }
   ],
   "source": [
    "df.Traffic_Level.unique()"
   ]
  },
  {
   "cell_type": "code",
   "execution_count": 15,
   "id": "c79c6f46",
   "metadata": {},
   "outputs": [
    {
     "data": {
      "text/plain": [
       "array(['Afternoon', 'Evening', 'Night', 'Morning', nan], dtype=object)"
      ]
     },
     "execution_count": 15,
     "metadata": {},
     "output_type": "execute_result"
    }
   ],
   "source": [
    "df.Time_of_Day.unique()"
   ]
  },
  {
   "cell_type": "code",
   "execution_count": 13,
   "id": "0801fb1c",
   "metadata": {},
   "outputs": [
    {
     "data": {
      "text/plain": [
       "array(['Scooter', 'Bike', 'Car'], dtype=object)"
      ]
     },
     "execution_count": 13,
     "metadata": {},
     "output_type": "execute_result"
    }
   ],
   "source": [
    "df.Vehicle_Type.unique()"
   ]
  },
  {
   "cell_type": "code",
   "execution_count": 102,
   "id": "6c5e18fe",
   "metadata": {},
   "outputs": [
    {
     "data": {
      "text/plain": [
       "Distance_km                0\n",
       "Preparation_Time_min       0\n",
       "Courier_Experience_yrs    30\n",
       "Delivery_Time_min          0\n",
       "Weather_Foggy              0\n",
       "Weather_Rainy              0\n",
       "Weather_Snowy              0\n",
       "Weather_Windy              0\n",
       "Vehicle_Type_Car           0\n",
       "Vehicle_Type_Scooter       0\n",
       "Traffic_Level_encoded      0\n",
       "Time_of_day_encoded        0\n",
       "dtype: int64"
      ]
     },
     "execution_count": 102,
     "metadata": {},
     "output_type": "execute_result"
    }
   ],
   "source": [
    "df.isna().sum()"
   ]
  },
  {
   "cell_type": "markdown",
   "id": "6a47cd38",
   "metadata": {},
   "source": [
    "# Now since these all these categories contain null values so we used to replace then using mode value"
   ]
  },
  {
   "cell_type": "code",
   "execution_count": 37,
   "id": "9e212891",
   "metadata": {},
   "outputs": [],
   "source": [
    "weather_mode=df.Weather.mode()[0]\n",
    "df.Weather.fillna(weather_mode,inplace=True)"
   ]
  },
  {
   "cell_type": "code",
   "execution_count": 39,
   "id": "6107140f",
   "metadata": {},
   "outputs": [],
   "source": [
    "traffic_level_mode=df.Traffic_Level.mode()[0]\n",
    "df.Traffic_Level.fillna(traffic_level_mode,inplace=True)"
   ]
  },
  {
   "cell_type": "code",
   "execution_count": 42,
   "id": "725b1884",
   "metadata": {},
   "outputs": [],
   "source": [
    "time_of_day_mode=df.Time_of_Day.unique()[0]\n",
    "df.Time_of_Day.fillna(time_of_day_mode,inplace=True)"
   ]
  },
  {
   "cell_type": "code",
   "execution_count": 45,
   "id": "962770ab",
   "metadata": {},
   "outputs": [],
   "source": [
    "vehicle_type_mode=df.Vehicle_Type.mode()[0]\n",
    "df.Vehicle_Type.fillna(vehicle_type_mode,inplace=True)"
   ]
  },
  {
   "cell_type": "code",
   "execution_count": 47,
   "id": "bf0f3160",
   "metadata": {},
   "outputs": [
    {
     "data": {
      "text/html": [
       "<div>\n",
       "<style scoped>\n",
       "    .dataframe tbody tr th:only-of-type {\n",
       "        vertical-align: middle;\n",
       "    }\n",
       "\n",
       "    .dataframe tbody tr th {\n",
       "        vertical-align: top;\n",
       "    }\n",
       "\n",
       "    .dataframe thead th {\n",
       "        text-align: right;\n",
       "    }\n",
       "</style>\n",
       "<table border=\"1\" class=\"dataframe\">\n",
       "  <thead>\n",
       "    <tr style=\"text-align: right;\">\n",
       "      <th></th>\n",
       "      <th>Order_ID</th>\n",
       "      <th>Distance_km</th>\n",
       "      <th>Weather</th>\n",
       "      <th>Traffic_Level</th>\n",
       "      <th>Time_of_Day</th>\n",
       "      <th>Vehicle_Type</th>\n",
       "      <th>Preparation_Time_min</th>\n",
       "      <th>Courier_Experience_yrs</th>\n",
       "      <th>Delivery_Time_min</th>\n",
       "    </tr>\n",
       "  </thead>\n",
       "  <tbody>\n",
       "    <tr>\n",
       "      <th>0</th>\n",
       "      <td>522</td>\n",
       "      <td>7.93</td>\n",
       "      <td>Windy</td>\n",
       "      <td>Low</td>\n",
       "      <td>Afternoon</td>\n",
       "      <td>Scooter</td>\n",
       "      <td>12</td>\n",
       "      <td>1.0</td>\n",
       "      <td>43</td>\n",
       "    </tr>\n",
       "    <tr>\n",
       "      <th>1</th>\n",
       "      <td>738</td>\n",
       "      <td>16.42</td>\n",
       "      <td>Clear</td>\n",
       "      <td>Medium</td>\n",
       "      <td>Evening</td>\n",
       "      <td>Bike</td>\n",
       "      <td>20</td>\n",
       "      <td>2.0</td>\n",
       "      <td>84</td>\n",
       "    </tr>\n",
       "  </tbody>\n",
       "</table>\n",
       "</div>"
      ],
      "text/plain": [
       "   Order_ID  Distance_km Weather Traffic_Level Time_of_Day Vehicle_Type  \\\n",
       "0       522         7.93   Windy           Low   Afternoon      Scooter   \n",
       "1       738        16.42   Clear        Medium     Evening         Bike   \n",
       "\n",
       "   Preparation_Time_min  Courier_Experience_yrs  Delivery_Time_min  \n",
       "0                    12                     1.0                 43  \n",
       "1                    20                     2.0                 84  "
      ]
     },
     "execution_count": 47,
     "metadata": {},
     "output_type": "execute_result"
    }
   ],
   "source": [
    "df.head(2)"
   ]
  },
  {
   "cell_type": "markdown",
   "id": "08c87e82",
   "metadata": {},
   "source": [
    "# Since Courier_Experience_yrs is a numerical value so we change the null values with mean values"
   ]
  },
  {
   "cell_type": "code",
   "execution_count": 112,
   "id": "ca1ee867",
   "metadata": {},
   "outputs": [
    {
     "name": "stderr",
     "output_type": "stream",
     "text": [
      "C:\\Users\\HP\\AppData\\Local\\Temp\\ipykernel_10576\\1349516706.py:2: FutureWarning: A value is trying to be set on a copy of a DataFrame or Series through chained assignment using an inplace method.\n",
      "The behavior will change in pandas 3.0. This inplace method will never work because the intermediate object on which we are setting values always behaves as a copy.\n",
      "\n",
      "For example, when doing 'df[col].method(value, inplace=True)', try using 'df.method({col: value}, inplace=True)' or df[col] = df[col].method(value) instead, to perform the operation inplace on the original object.\n",
      "\n",
      "\n",
      "  df.Courier_Experience_yrs.fillna(exp_mean,inplace=True)\n"
     ]
    }
   ],
   "source": [
    "exp_mean=int(df['Courier_Experience_yrs'].mean())\n",
    "df.Courier_Experience_yrs.fillna(exp_mean,inplace=True)"
   ]
  },
  {
   "cell_type": "markdown",
   "id": "dcf35098",
   "metadata": {},
   "source": [
    "# Now we have to do data encoding to convert categorical data into numerical data\n",
    "\n",
    "- for Weather,VehicleType we use one hot encoding to avoid introducing false order \n",
    "- for Traffic_level,TimeOfDay we use ordinal encoding because we want to introduce order"
   ]
  },
  {
   "cell_type": "code",
   "execution_count": 49,
   "id": "4d153262",
   "metadata": {},
   "outputs": [],
   "source": [
    "from sklearn.preprocessing import OneHotEncoder"
   ]
  },
  {
   "cell_type": "code",
   "execution_count": 56,
   "id": "d5805dec",
   "metadata": {},
   "outputs": [],
   "source": [
    "weather_encoding=OneHotEncoder(drop='first')\n",
    "weather_encoded=weather_encoding.fit_transform(df[['Weather']]).toarray()"
   ]
  },
  {
   "cell_type": "code",
   "execution_count": 57,
   "metadata": {},
   "outputs": [
    {
     "data": {
      "text/html": [
       "<div>\n",
       "<style scoped>\n",
       "    .dataframe tbody tr th:only-of-type {\n",
       "        vertical-align: middle;\n",
       "    }\n",
       "\n",
       "    .dataframe tbody tr th {\n",
       "        vertical-align: top;\n",
       "    }\n",
       "\n",
       "    .dataframe thead th {\n",
       "        text-align: right;\n",
       "    }\n",
       "</style>\n",
       "<table border=\"1\" class=\"dataframe\">\n",
       "  <thead>\n",
       "    <tr style=\"text-align: right;\">\n",
       "      <th></th>\n",
       "      <th>Weather_Foggy</th>\n",
       "      <th>Weather_Rainy</th>\n",
       "      <th>Weather_Snowy</th>\n",
       "      <th>Weather_Windy</th>\n",
       "    </tr>\n",
       "  </thead>\n",
       "  <tbody>\n",
       "    <tr>\n",
       "      <th>0</th>\n",
       "      <td>0.0</td>\n",
       "      <td>0.0</td>\n",
       "      <td>0.0</td>\n",
       "      <td>1.0</td>\n",
       "    </tr>\n",
       "    <tr>\n",
       "      <th>1</th>\n",
       "      <td>0.0</td>\n",
       "      <td>0.0</td>\n",
       "      <td>0.0</td>\n",
       "      <td>0.0</td>\n",
       "    </tr>\n",
       "    <tr>\n",
       "      <th>2</th>\n",
       "      <td>1.0</td>\n",
       "      <td>0.0</td>\n",
       "      <td>0.0</td>\n",
       "      <td>0.0</td>\n",
       "    </tr>\n",
       "    <tr>\n",
       "      <th>3</th>\n",
       "      <td>0.0</td>\n",
       "      <td>1.0</td>\n",
       "      <td>0.0</td>\n",
       "      <td>0.0</td>\n",
       "    </tr>\n",
       "    <tr>\n",
       "      <th>4</th>\n",
       "      <td>0.0</td>\n",
       "      <td>0.0</td>\n",
       "      <td>0.0</td>\n",
       "      <td>0.0</td>\n",
       "    </tr>\n",
       "    <tr>\n",
       "      <th>...</th>\n",
       "      <td>...</td>\n",
       "      <td>...</td>\n",
       "      <td>...</td>\n",
       "      <td>...</td>\n",
       "    </tr>\n",
       "    <tr>\n",
       "      <th>995</th>\n",
       "      <td>0.0</td>\n",
       "      <td>0.0</td>\n",
       "      <td>0.0</td>\n",
       "      <td>0.0</td>\n",
       "    </tr>\n",
       "    <tr>\n",
       "      <th>996</th>\n",
       "      <td>0.0</td>\n",
       "      <td>1.0</td>\n",
       "      <td>0.0</td>\n",
       "      <td>0.0</td>\n",
       "    </tr>\n",
       "    <tr>\n",
       "      <th>997</th>\n",
       "      <td>0.0</td>\n",
       "      <td>0.0</td>\n",
       "      <td>1.0</td>\n",
       "      <td>0.0</td>\n",
       "    </tr>\n",
       "    <tr>\n",
       "      <th>998</th>\n",
       "      <td>0.0</td>\n",
       "      <td>0.0</td>\n",
       "      <td>0.0</td>\n",
       "      <td>0.0</td>\n",
       "    </tr>\n",
       "    <tr>\n",
       "      <th>999</th>\n",
       "      <td>1.0</td>\n",
       "      <td>0.0</td>\n",
       "      <td>0.0</td>\n",
       "      <td>0.0</td>\n",
       "    </tr>\n",
       "  </tbody>\n",
       "</table>\n",
       "<p>1000 rows × 4 columns</p>\n",
       "</div>"
      ],
      "text/plain": [
       "     Weather_Foggy  Weather_Rainy  Weather_Snowy  Weather_Windy\n",
       "0              0.0            0.0            0.0            1.0\n",
       "1              0.0            0.0            0.0            0.0\n",
       "2              1.0            0.0            0.0            0.0\n",
       "3              0.0            1.0            0.0            0.0\n",
       "4              0.0            0.0            0.0            0.0\n",
       "..             ...            ...            ...            ...\n",
       "995            0.0            0.0            0.0            0.0\n",
       "996            0.0            1.0            0.0            0.0\n",
       "997            0.0            0.0            1.0            0.0\n",
       "998            0.0            0.0            0.0            0.0\n",
       "999            1.0            0.0            0.0            0.0\n",
       "\n",
       "[1000 rows x 4 columns]"
      ]
     },
     "execution_count": 57,
     "metadata": {},
     "output_type": "execute_result"
    }
   ],
   "source": [
    "weather_encoded_df=pd.DataFrame(weather_encoded,columns=weather_encoding.get_feature_names_out())\n",
    "weather_encoded_df"
   ]
  },
  {
   "cell_type": "code",
   "execution_count": 63,
   "id": "cd4f7f2e",
   "metadata": {},
   "outputs": [],
   "source": [
    "## Adding encoded values to the data set\n",
    "df=pd.concat([df.reset_index(drop=True),weather_encoded_df],axis=1)"
   ]
  },
  {
   "cell_type": "code",
   "execution_count": 65,
   "id": "ab8d2748",
   "metadata": {},
   "outputs": [],
   "source": [
    "## droping weather feature from the dataset\n",
    "df.drop('Weather',axis=1,inplace=True)"
   ]
  },
  {
   "cell_type": "code",
   "execution_count": 66,
   "id": "e603fb76",
   "metadata": {},
   "outputs": [],
   "source": [
    "vehicle_type_ecoder=OneHotEncoder(drop='first')\n",
    "vehicle_type_ecoded=vehicle_type_ecoder.fit_transform(df[['Vehicle_Type']]).toarray()"
   ]
  },
  {
   "cell_type": "code",
   "execution_count": 69,
   "id": "ee1676c0",
   "metadata": {},
   "outputs": [],
   "source": [
    "vehicle_type_ecoded_df=pd.DataFrame(vehicle_type_ecoded,columns=vehicle_type_ecoder.get_feature_names_out())\n"
   ]
  },
  {
   "cell_type": "code",
   "execution_count": 72,
   "id": "8aeb25d1",
   "metadata": {},
   "outputs": [],
   "source": [
    "df=pd.concat([df.reset_index(drop=True),vehicle_type_ecoded_df],axis=1)"
   ]
  },
  {
   "cell_type": "code",
   "execution_count": 73,
   "id": "3fa1fb49",
   "metadata": {},
   "outputs": [],
   "source": [
    "df.drop('Vehicle_Type',axis=1,inplace=True)"
   ]
  },
  {
   "cell_type": "code",
   "execution_count": null,
   "id": "0e6601fd",
   "metadata": {},
   "outputs": [],
   "source": [
    "## Ordinal encoding for traffic_level \n",
    "mapping = {'Low': 1, 'Medium': 2, 'High': 3}\n",
    "\n",
    "df['Traffic_Level_encoded']=df['Traffic_Level'].map(mapping)\n",
    "\n",
    "df.drop('Traffic_Level',axis=1,inplace=True)"
   ]
  },
  {
   "cell_type": "code",
   "execution_count": 85,
   "id": "4d15b55c",
   "metadata": {},
   "outputs": [],
   "source": [
    "## Ordinal encoding for and Time_of_day\n",
    "time_mapping = {\n",
    "    'Afternoon': 1,\n",
    "    'Evening': 2,\n",
    "    'Night': 3,\n",
    "    'Morning': 4\n",
    "}\n",
    "\n",
    "df['Time_of_day_encoded']=df['Time_of_Day'].map(time_mapping)"
   ]
  },
  {
   "cell_type": "code",
   "execution_count": 89,
   "id": "813b18fa",
   "metadata": {},
   "outputs": [],
   "source": [
    "df.drop('Time_of_Day',axis=1,inplace=True)"
   ]
  },
  {
   "cell_type": "code",
   "execution_count": 92,
   "id": "b4f88f88",
   "metadata": {},
   "outputs": [
    {
     "data": {
      "text/plain": [
       "Index(['Order_ID', 'Distance_km', 'Preparation_Time_min',\n",
       "       'Courier_Experience_yrs', 'Delivery_Time_min', 'Weather_Foggy',\n",
       "       'Weather_Rainy', 'Weather_Snowy', 'Weather_Windy', 'Vehicle_Type_Car',\n",
       "       'Vehicle_Type_Scooter', 'Traffic_Level_encoded', 'Time_of_day_encoded'],\n",
       "      dtype='object')"
      ]
     },
     "execution_count": 92,
     "metadata": {},
     "output_type": "execute_result"
    }
   ],
   "source": [
    "df.columns"
   ]
  },
  {
   "cell_type": "markdown",
   "id": "e99af8b3",
   "metadata": {},
   "source": [
    "## Now in the dataset the Order_ID is not that much important to predict the Delivery_time so we drop it"
   ]
  },
  {
   "cell_type": "code",
   "execution_count": 93,
   "id": "ce09bf78",
   "metadata": {},
   "outputs": [],
   "source": [
    "df.drop('Order_ID',axis=1,inplace=True)"
   ]
  },
  {
   "cell_type": "code",
   "execution_count": 95,
   "id": "95e792fd",
   "metadata": {},
   "outputs": [
    {
     "name": "stdout",
     "output_type": "stream",
     "text": [
      "<class 'pandas.core.frame.DataFrame'>\n",
      "RangeIndex: 1000 entries, 0 to 999\n",
      "Data columns (total 12 columns):\n",
      " #   Column                  Non-Null Count  Dtype  \n",
      "---  ------                  --------------  -----  \n",
      " 0   Distance_km             1000 non-null   float64\n",
      " 1   Preparation_Time_min    1000 non-null   int64  \n",
      " 2   Courier_Experience_yrs  970 non-null    float64\n",
      " 3   Delivery_Time_min       1000 non-null   int64  \n",
      " 4   Weather_Foggy           1000 non-null   float64\n",
      " 5   Weather_Rainy           1000 non-null   float64\n",
      " 6   Weather_Snowy           1000 non-null   float64\n",
      " 7   Weather_Windy           1000 non-null   float64\n",
      " 8   Vehicle_Type_Car        1000 non-null   float64\n",
      " 9   Vehicle_Type_Scooter    1000 non-null   float64\n",
      " 10  Traffic_Level_encoded   1000 non-null   int64  \n",
      " 11  Time_of_day_encoded     1000 non-null   int64  \n",
      "dtypes: float64(8), int64(4)\n",
      "memory usage: 93.9 KB\n"
     ]
    }
   ],
   "source": [
    "df.info()"
   ]
  },
  {
   "cell_type": "code",
   "execution_count": 117,
   "id": "b71294d9",
   "metadata": {},
   "outputs": [
    {
     "data": {
      "text/plain": [
       "Distance_km               0\n",
       "Preparation_Time_min      0\n",
       "Courier_Experience_yrs    0\n",
       "Delivery_Time_min         0\n",
       "Weather_Foggy             0\n",
       "Weather_Rainy             0\n",
       "Weather_Snowy             0\n",
       "Weather_Windy             0\n",
       "Vehicle_Type_Car          0\n",
       "Vehicle_Type_Scooter      0\n",
       "Traffic_Level_encoded     0\n",
       "Time_of_day_encoded       0\n",
       "dtype: int64"
      ]
     },
     "execution_count": 117,
     "metadata": {},
     "output_type": "execute_result"
    }
   ],
   "source": [
    "df.isna().sum()"
   ]
  },
  {
   "cell_type": "code",
   "execution_count": 118,
   "id": "88054783",
   "metadata": {},
   "outputs": [],
   "source": [
    "## Saving the dataset file to the processed folder\n",
    "\n",
    "import os\n",
    "processed_dir = os.path.join(\"..\", \"Data\", \"Processed\")\n",
    "os.makedirs(processed_dir,exist_ok=True)\n",
    "processed_file_path=os.path.join(processed_dir,\"delivery_data_cleaned.csv\")\n",
    "\n",
    "df.to_csv(processed_file_path,index=False)"
   ]
  }
 ],
 "metadata": {
  "kernelspec": {
   "display_name": "Python 3",
   "language": "python",
   "name": "python3"
  },
  "language_info": {
   "codemirror_mode": {
    "name": "ipython",
    "version": 3
   },
   "file_extension": ".py",
   "mimetype": "text/x-python",
   "name": "python",
   "nbconvert_exporter": "python",
   "pygments_lexer": "ipython3",
   "version": "3.10.0"
  }
 },
 "nbformat": 4,
 "nbformat_minor": 5
}
